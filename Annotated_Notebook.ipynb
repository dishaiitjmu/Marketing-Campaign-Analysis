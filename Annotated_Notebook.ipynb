{
  "nbformat": 4,
  "nbformat_minor": 0,
  "metadata": {
    "colab": {
      "provenance": [],
      "include_colab_link": true
    },
    "kernelspec": {
      "name": "python3",
      "display_name": "Python 3"
    },
    "language_info": {
      "name": "python"
    }
  },
  "cells": [
    {
      "cell_type": "markdown",
      "metadata": {
        "id": "view-in-github",
        "colab_type": "text"
      },
      "source": [
        "<a href=\"https://colab.research.google.com/github/dishaiitjmu/Marketing-Campaign-Analysis/blob/main/Annotated_Notebook.ipynb\" target=\"_parent\"><img src=\"https://colab.research.google.com/assets/colab-badge.svg\" alt=\"Open In Colab\"/></a>"
      ]
    },
    {
      "cell_type": "markdown",
      "metadata": {
        "id": "3fbFgH5znr4H"
      },
      "source": [
        "### Step 1: Environment Setup\n",
        "This cell checks the current working directory and lists the available files. It ensures the dataset or required files are present."
      ]
    },
    {
      "cell_type": "code",
      "execution_count": 1,
      "metadata": {
        "colab": {
          "base_uri": "https://localhost:8080/"
        },
        "id": "dR42oXtxYbdf",
        "outputId": "e0811278-79a9-4fdd-b7d7-84d83771bde5"
      },
      "outputs": [
        {
          "output_type": "stream",
          "name": "stdout",
          "text": [
            "Current working directory:\n",
            "/content\n",
            "\n",
            "Files in this folder:\n",
            "['.config', 'sample_data']\n",
            "\n",
            "❌ groceries.csv not found here. Move it to this folder or change the path.\n"
          ]
        }
      ],
      "source": [
        "import os\n",
        "\n",
        "# Show current working directory\n",
        "print(\"Current working directory:\")\n",
        "print(os.getcwd())\n",
        "\n",
        "# List all files in this folder\n",
        "print(\"\\nFiles in this folder:\")\n",
        "print(os.listdir())\n",
        "\n",
        "# Check if groceries.csv is here\n",
        "if \"groceries.csv\" in os.listdir():\n",
        "    print(\"\\n✅ groceries.csv is in the correct folder!\")\n",
        "else:\n",
        "    print(\"\\n❌ groceries.csv not found here. Move it to this folder or change the path.\")\n"
      ]
    },
    {
      "cell_type": "markdown",
      "metadata": {
        "id": "pVjL3NfTnr4L"
      },
      "source": [
        "### Step 2: Upload Dataset\n",
        "Here we use Google Colab's `files.upload()` function to manually upload the dataset."
      ]
    },
    {
      "cell_type": "code",
      "source": [
        "from google.colab import files\n",
        "uploaded = files.upload()\n"
      ],
      "metadata": {
        "colab": {
          "base_uri": "https://localhost:8080/",
          "height": 38
        },
        "id": "eHNzLBQ_Y1kg",
        "outputId": "a6d7776a-2a0d-4fd2-b606-e9f94faeb416"
      },
      "execution_count": null,
      "outputs": [
        {
          "output_type": "display_data",
          "data": {
            "text/plain": [
              "<IPython.core.display.HTML object>"
            ],
            "text/html": [
              "\n",
              "     <input type=\"file\" id=\"files-9f1a7162-a4cf-4596-b131-a9cdfe31d400\" name=\"files[]\" multiple disabled\n",
              "        style=\"border:none\" />\n",
              "     <output id=\"result-9f1a7162-a4cf-4596-b131-a9cdfe31d400\">\n",
              "      Upload widget is only available when the cell has been executed in the\n",
              "      current browser session. Please rerun this cell to enable.\n",
              "      </output>\n",
              "      <script>// Copyright 2017 Google LLC\n",
              "//\n",
              "// Licensed under the Apache License, Version 2.0 (the \"License\");\n",
              "// you may not use this file except in compliance with the License.\n",
              "// You may obtain a copy of the License at\n",
              "//\n",
              "//      http://www.apache.org/licenses/LICENSE-2.0\n",
              "//\n",
              "// Unless required by applicable law or agreed to in writing, software\n",
              "// distributed under the License is distributed on an \"AS IS\" BASIS,\n",
              "// WITHOUT WARRANTIES OR CONDITIONS OF ANY KIND, either express or implied.\n",
              "// See the License for the specific language governing permissions and\n",
              "// limitations under the License.\n",
              "\n",
              "/**\n",
              " * @fileoverview Helpers for google.colab Python module.\n",
              " */\n",
              "(function(scope) {\n",
              "function span(text, styleAttributes = {}) {\n",
              "  const element = document.createElement('span');\n",
              "  element.textContent = text;\n",
              "  for (const key of Object.keys(styleAttributes)) {\n",
              "    element.style[key] = styleAttributes[key];\n",
              "  }\n",
              "  return element;\n",
              "}\n",
              "\n",
              "// Max number of bytes which will be uploaded at a time.\n",
              "const MAX_PAYLOAD_SIZE = 100 * 1024;\n",
              "\n",
              "function _uploadFiles(inputId, outputId) {\n",
              "  const steps = uploadFilesStep(inputId, outputId);\n",
              "  const outputElement = document.getElementById(outputId);\n",
              "  // Cache steps on the outputElement to make it available for the next call\n",
              "  // to uploadFilesContinue from Python.\n",
              "  outputElement.steps = steps;\n",
              "\n",
              "  return _uploadFilesContinue(outputId);\n",
              "}\n",
              "\n",
              "// This is roughly an async generator (not supported in the browser yet),\n",
              "// where there are multiple asynchronous steps and the Python side is going\n",
              "// to poll for completion of each step.\n",
              "// This uses a Promise to block the python side on completion of each step,\n",
              "// then passes the result of the previous step as the input to the next step.\n",
              "function _uploadFilesContinue(outputId) {\n",
              "  const outputElement = document.getElementById(outputId);\n",
              "  const steps = outputElement.steps;\n",
              "\n",
              "  const next = steps.next(outputElement.lastPromiseValue);\n",
              "  return Promise.resolve(next.value.promise).then((value) => {\n",
              "    // Cache the last promise value to make it available to the next\n",
              "    // step of the generator.\n",
              "    outputElement.lastPromiseValue = value;\n",
              "    return next.value.response;\n",
              "  });\n",
              "}\n",
              "\n",
              "/**\n",
              " * Generator function which is called between each async step of the upload\n",
              " * process.\n",
              " * @param {string} inputId Element ID of the input file picker element.\n",
              " * @param {string} outputId Element ID of the output display.\n",
              " * @return {!Iterable<!Object>} Iterable of next steps.\n",
              " */\n",
              "function* uploadFilesStep(inputId, outputId) {\n",
              "  const inputElement = document.getElementById(inputId);\n",
              "  inputElement.disabled = false;\n",
              "\n",
              "  const outputElement = document.getElementById(outputId);\n",
              "  outputElement.innerHTML = '';\n",
              "\n",
              "  const pickedPromise = new Promise((resolve) => {\n",
              "    inputElement.addEventListener('change', (e) => {\n",
              "      resolve(e.target.files);\n",
              "    });\n",
              "  });\n",
              "\n",
              "  const cancel = document.createElement('button');\n",
              "  inputElement.parentElement.appendChild(cancel);\n",
              "  cancel.textContent = 'Cancel upload';\n",
              "  const cancelPromise = new Promise((resolve) => {\n",
              "    cancel.onclick = () => {\n",
              "      resolve(null);\n",
              "    };\n",
              "  });\n",
              "\n",
              "  // Wait for the user to pick the files.\n",
              "  const files = yield {\n",
              "    promise: Promise.race([pickedPromise, cancelPromise]),\n",
              "    response: {\n",
              "      action: 'starting',\n",
              "    }\n",
              "  };\n",
              "\n",
              "  cancel.remove();\n",
              "\n",
              "  // Disable the input element since further picks are not allowed.\n",
              "  inputElement.disabled = true;\n",
              "\n",
              "  if (!files) {\n",
              "    return {\n",
              "      response: {\n",
              "        action: 'complete',\n",
              "      }\n",
              "    };\n",
              "  }\n",
              "\n",
              "  for (const file of files) {\n",
              "    const li = document.createElement('li');\n",
              "    li.append(span(file.name, {fontWeight: 'bold'}));\n",
              "    li.append(span(\n",
              "        `(${file.type || 'n/a'}) - ${file.size} bytes, ` +\n",
              "        `last modified: ${\n",
              "            file.lastModifiedDate ? file.lastModifiedDate.toLocaleDateString() :\n",
              "                                    'n/a'} - `));\n",
              "    const percent = span('0% done');\n",
              "    li.appendChild(percent);\n",
              "\n",
              "    outputElement.appendChild(li);\n",
              "\n",
              "    const fileDataPromise = new Promise((resolve) => {\n",
              "      const reader = new FileReader();\n",
              "      reader.onload = (e) => {\n",
              "        resolve(e.target.result);\n",
              "      };\n",
              "      reader.readAsArrayBuffer(file);\n",
              "    });\n",
              "    // Wait for the data to be ready.\n",
              "    let fileData = yield {\n",
              "      promise: fileDataPromise,\n",
              "      response: {\n",
              "        action: 'continue',\n",
              "      }\n",
              "    };\n",
              "\n",
              "    // Use a chunked sending to avoid message size limits. See b/62115660.\n",
              "    let position = 0;\n",
              "    do {\n",
              "      const length = Math.min(fileData.byteLength - position, MAX_PAYLOAD_SIZE);\n",
              "      const chunk = new Uint8Array(fileData, position, length);\n",
              "      position += length;\n",
              "\n",
              "      const base64 = btoa(String.fromCharCode.apply(null, chunk));\n",
              "      yield {\n",
              "        response: {\n",
              "          action: 'append',\n",
              "          file: file.name,\n",
              "          data: base64,\n",
              "        },\n",
              "      };\n",
              "\n",
              "      let percentDone = fileData.byteLength === 0 ?\n",
              "          100 :\n",
              "          Math.round((position / fileData.byteLength) * 100);\n",
              "      percent.textContent = `${percentDone}% done`;\n",
              "\n",
              "    } while (position < fileData.byteLength);\n",
              "  }\n",
              "\n",
              "  // All done.\n",
              "  yield {\n",
              "    response: {\n",
              "      action: 'complete',\n",
              "    }\n",
              "  };\n",
              "}\n",
              "\n",
              "scope.google = scope.google || {};\n",
              "scope.google.colab = scope.google.colab || {};\n",
              "scope.google.colab._files = {\n",
              "  _uploadFiles,\n",
              "  _uploadFilesContinue,\n",
              "};\n",
              "})(self);\n",
              "</script> "
            ]
          },
          "metadata": {}
        }
      ]
    },
    {
      "cell_type": "markdown",
      "metadata": {
        "id": "S23NWTsTnr4L"
      },
      "source": [
        "### Step 3: File Renaming\n",
        "Renames the uploaded dataset file (`Groceries_dataset.csv`) to a simpler name (`groceries.csv`) for easier handling."
      ]
    },
    {
      "cell_type": "code",
      "source": [
        "import os\n",
        "os.rename(\"Groceries_dataset.csv\", \"groceries.csv\")\n"
      ],
      "metadata": {
        "id": "ffY6hYBJZAC9"
      },
      "execution_count": null,
      "outputs": []
    },
    {
      "cell_type": "markdown",
      "metadata": {
        "id": "T84W6sYHnr4M"
      },
      "source": [
        "### Step 4: Import Libraries\n",
        "All required libraries for data processing, visualization, and association rule mining are imported."
      ]
    },
    {
      "cell_type": "code",
      "source": [
        "import os\n",
        "import pandas as pd\n",
        "import numpy as np\n",
        "import matplotlib.pyplot as plt\n",
        "import seaborn as sns\n",
        "from mlxtend.frequent_patterns import apriori, association_rules\n",
        "\n",
        "# Plot style\n",
        "plt.rcParams['figure.figsize'] = (9, 5)\n",
        "plt.rcParams['axes.grid'] = True\n",
        "\n",
        "# Paths\n",
        "DATA_PATH = \"groceries.csv\"  # uploaded dataset name\n",
        "OUTPUT_DIR = \".\"\n",
        "FIG_DIR = os.path.join(OUTPUT_DIR, \"figures\")\n",
        "os.makedirs(FIG_DIR, exist_ok=True)\n",
        "\n",
        "print(\"✅ Setup complete! Ready to load data.\")\n"
      ],
      "metadata": {
        "id": "Cc-CQ42lZXZ6"
      },
      "execution_count": null,
      "outputs": []
    },
    {
      "cell_type": "markdown",
      "metadata": {
        "id": "vg9BvP0Mnr4N"
      },
      "source": [
        "### Step 5: Load Dataset\n",
        "Loads the groceries dataset into a Pandas DataFrame and displays its shape and first few rows."
      ]
    },
    {
      "cell_type": "code",
      "source": [
        "# Load the dataset\n",
        "df = pd.read_csv(DATA_PATH)\n",
        "\n",
        "# Quick look at data\n",
        "print(\"✅ Dataset Loaded!\")\n",
        "print(f\"Shape: {df.shape}\")\n",
        "print(\"\\nFirst 5 rows:\")\n",
        "print(df.head())\n",
        "\n",
        "# Column info\n",
        "print(\"\\nColumn Names:\")\n",
        "print(df.columns.tolist())\n",
        "\n",
        "# Check for missing values\n",
        "print(\"\\nMissing values:\")\n",
        "print(df.isnull().sum().sum())\n"
      ],
      "metadata": {
        "id": "rW_CkrhIZZtp"
      },
      "execution_count": null,
      "outputs": []
    },
    {
      "cell_type": "markdown",
      "metadata": {
        "id": "NgMN7Lbtnr4O"
      },
      "source": [
        "### Step 6: Dataset Dimensions\n",
        "Prints the number of transactions (rows) and the number of unique products (columns)."
      ]
    },
    {
      "cell_type": "code",
      "source": [
        "# Number of transactions (rows) and unique products (columns)\n",
        "print(f\"Number of transactions: {df.shape[0]}\")\n",
        "print(f\"Number of unique products: {df.shape[1]}\")\n",
        "\n",
        "# Count how many items per transaction\n",
        "basket_sizes = df.sum(axis=1)\n",
        "print(\"\\nBasket Size Stats:\")\n",
        "print(basket_sizes.describe())\n",
        "\n",
        "# Plot basket size distribution\n",
        "plt.figure()\n",
        "plt.hist(basket_sizes, bins=20, edgecolor='black')\n",
        "plt.title(\"Basket Size Distribution\")\n",
        "plt.xlabel(\"Number of Items in Basket\")\n",
        "plt.ylabel(\"Number of Transactions\")\n",
        "plt.tight_layout()\n",
        "plt.savefig(os.path.join(FIG_DIR, \"basket_size_distribution.png\"))\n",
        "plt.show()\n",
        "\n",
        "# Find top 10 most purchased items\n",
        "item_totals = df.sum().sort_values(ascending=False).head(10)\n",
        "print(\"\\nTop 10 Most Purchased Items:\")\n",
        "print(item_totals)\n",
        "\n",
        "# Plot top items\n",
        "plt.figure()\n",
        "sns.barplot(x=item_totals.values, y=item_totals.index)\n",
        "plt.title(\"Top 10 Most Purchased Items\")\n",
        "plt.xlabel(\"Number of Purchases\")\n",
        "plt.ylabel(\"Item\")\n",
        "plt.tight_layout()\n",
        "plt.savefig(os.path.join(FIG_DIR, \"top_items.png\"))\n",
        "plt.show()\n"
      ],
      "metadata": {
        "id": "WEpu-_1LZ13e"
      },
      "execution_count": null,
      "outputs": []
    },
    {
      "cell_type": "markdown",
      "metadata": {
        "id": "4KyiJLDAnr4P"
      },
      "source": [
        "### Step 7: Inspect Data\n",
        "Displays the first 10 rows and basic info about the dataset, including column details."
      ]
    },
    {
      "cell_type": "code",
      "source": [
        "# Show column names and first few rows\n",
        "print(df.head(10))\n",
        "print(\"\\nColumn Info:\")\n",
        "print(df.info())\n"
      ],
      "metadata": {
        "id": "Z7RMSm3SaGwJ"
      },
      "execution_count": null,
      "outputs": []
    },
    {
      "cell_type": "markdown",
      "metadata": {
        "id": "D0hmtF5Qnr4P"
      },
      "source": [
        "### Step 8: Data Transformation\n",
        "Pivots the dataset into a format where each row corresponds to a customer and each column corresponds to an item. This format is required for Apriori algorithm."
      ]
    },
    {
      "cell_type": "code",
      "source": [
        "# Pivot the dataset: each row = Member_number (customer), columns = items\n",
        "basket = df.groupby(['Member_number', 'itemDescription'])['itemDescription'] \\\n",
        "            .count().unstack().reset_index().fillna(0).set_index('Member_number')\n",
        "\n",
        "# Convert quantities to 1/0\n",
        "basket = basket.applymap(lambda x: 1 if x > 0 else 0)\n",
        "\n",
        "print(\"✅ Basket format created!\")\n",
        "print(basket.head())\n"
      ],
      "metadata": {
        "id": "AlhG9q7raUpi"
      },
      "execution_count": null,
      "outputs": []
    },
    {
      "cell_type": "markdown",
      "metadata": {
        "id": "rcxx1qrinr4Q"
      },
      "source": [
        "### Step 9: Frequent Itemsets with Apriori\n",
        "Applies the Apriori algorithm to identify frequently bought itemsets with a minimum support threshold of 2%."
      ]
    },
    {
      "cell_type": "code",
      "source": [
        "from mlxtend.frequent_patterns import apriori, association_rules\n",
        "\n",
        "# Run Apriori to find frequent itemsets\n",
        "frequent_itemsets = apriori(basket, min_support=0.02, use_colnames=True)  # 2% support\n",
        "frequent_itemsets = frequent_itemsets.sort_values(by=\"support\", ascending=False)\n",
        "\n",
        "print(\"✅ Frequent itemsets found!\")\n",
        "print(frequent_itemsets.head(10))\n"
      ],
      "metadata": {
        "id": "h2w080ylaWoS"
      },
      "execution_count": null,
      "outputs": []
    },
    {
      "cell_type": "markdown",
      "source": [],
      "metadata": {
        "id": "Urlogpcia1fd"
      }
    },
    {
      "cell_type": "markdown",
      "metadata": {
        "id": "CgNY7nOHnr4Q"
      },
      "source": [
        "### Code Explanation\n",
        "This cell contributes to data processing, model training, or visualization as part of association rule mining analysis."
      ]
    },
    {
      "cell_type": "code",
      "source": [
        "# Generate association rules\n",
        "rules = association_rules(frequent_itemsets, metric=\"lift\", min_threshold=1.0)\n",
        "rules = rules.sort_values(by=\"lift\", ascending=False)\n",
        "\n",
        "# Show top 10 rules\n",
        "print(\"✅ Top association rules:\")\n",
        "print(rules[['antecedents', 'consequents', 'support', 'confidence', 'lift']].head(10))\n"
      ],
      "metadata": {
        "id": "0lSFkYJpazGE"
      },
      "execution_count": null,
      "outputs": []
    },
    {
      "cell_type": "markdown",
      "metadata": {
        "id": "5Iffde_6nr4R"
      },
      "source": [
        "### Code Explanation\n",
        "This cell contributes to data processing, model training, or visualization as part of association rule mining analysis."
      ]
    },
    {
      "cell_type": "code",
      "source": [
        "# 1️⃣ Top 10 Frequent Itemsets by Support\n",
        "top_itemsets = frequent_itemsets.sort_values(by='support', ascending=False).head(10)\n",
        "\n",
        "plt.figure(figsize=(10,6))\n",
        "sns.barplot(x=top_itemsets['support'], y=top_itemsets['itemsets'].astype(str), palette=\"viridis\")\n",
        "plt.title(\"Top 10 Frequent Itemsets by Support\")\n",
        "plt.xlabel(\"Support\")\n",
        "plt.ylabel(\"Itemsets\")\n",
        "plt.tight_layout()\n",
        "plt.savefig(os.path.join(FIG_DIR, \"top_itemsets.png\"))\n",
        "plt.show()\n",
        "\n",
        "# 2️⃣ Lift vs Confidence Scatter Plot\n",
        "plt.figure(figsize=(8,6))\n",
        "plt.scatter(rules['confidence'], rules['lift'], alpha=0.6, edgecolors='k')\n",
        "plt.title(\"Association Rules: Lift vs Confidence\")\n",
        "plt.xlabel(\"Confidence\")\n",
        "plt.ylabel(\"Lift\")\n",
        "plt.grid(True)\n",
        "plt.tight_layout()\n",
        "plt.savefig(os.path.join(FIG_DIR, \"lift_vs_confidence.png\"))\n",
        "plt.show()\n",
        "\n",
        "# 3️⃣ Optional: Heatmap of Top Item Associations\n",
        "top_items = basket.columns[:10]  # top 10 columns for visualization\n",
        "plt.figure(figsize=(10,8))\n",
        "sns.heatmap(basket[top_items].corr(), annot=True, cmap='coolwarm')\n",
        "plt.title(\"Correlation Heatmap of Top Items\")\n",
        "plt.tight_layout()\n",
        "plt.savefig(os.path.join(FIG_DIR, \"top_items_heatmap.png\"))\n",
        "plt.show()\n"
      ],
      "metadata": {
        "id": "EyHICms9a6vR"
      },
      "execution_count": null,
      "outputs": []
    },
    {
      "cell_type": "markdown",
      "metadata": {
        "id": "f5h9CCY1nr4R"
      },
      "source": [
        "### Code Explanation\n",
        "This cell contributes to data processing, model training, or visualization as part of association rule mining analysis."
      ]
    },
    {
      "cell_type": "code",
      "source": [
        "# Example: Top 5 rules by lift\n",
        "top_rules = rules.sort_values(by='lift', ascending=False).head(5)\n",
        "\n",
        "print(\"✅ Top 5 Association Rules for Insights:\")\n",
        "for idx, row in top_rules.iterrows():\n",
        "    antecedents = ', '.join(list(row['antecedents']))\n",
        "    consequents = ', '.join(list(row['consequents']))\n",
        "    support = round(row['support'], 3)\n",
        "    confidence = round(row['confidence'], 3)\n",
        "    lift = round(row['lift'], 3)\n",
        "    print(f\"Rule: {antecedents} → {consequents} | Support: {support}, Confidence: {confidence}, Lift: {lift}\")\n",
        "\n",
        "# Example insights\n",
        "insights = [\n",
        "    \"Customers buying Whole Milk often also buy Yogurt. Consider bundling these for promotions.\",\n",
        "    \"Other Vegetables + Whole Milk frequently purchased together → Highlight in combo offers.\",\n",
        "    \"High lift (>1.5) rules indicate strong associations → Prioritize these for cross-sell campaigns.\",\n",
        "    \"Rules with confidence > 60% → reliable patterns for marketing targeting and shelf placement.\"\n",
        "]\n",
        "\n",
        "print(\"\\n📌 Business Recommendations:\")\n",
        "for rec in insights:\n",
        "    print(\"-\", rec)\n"
      ],
      "metadata": {
        "id": "iMJpgwhkbFfe"
      },
      "execution_count": null,
      "outputs": []
    },
    {
      "cell_type": "markdown",
      "metadata": {
        "id": "ce4o_ZKdnr4S"
      },
      "source": [
        "### Code Explanation\n",
        "This cell contributes to data processing, model training, or visualization as part of association rule mining analysis."
      ]
    },
    {
      "cell_type": "code",
      "source": [
        "# Save frequent itemsets\n",
        "frequent_itemsets.to_csv(\"frequent_itemsets.csv\", index=False)\n",
        "print(\"✅ Saved frequent_itemsets.csv\")\n",
        "\n",
        "# Save association rules\n",
        "rules.to_csv(\"association_rules.csv\", index=False)\n",
        "print(\"✅ Saved association_rules.csv\")\n",
        "\n",
        "# Optional: save basket data (binary matrix)\n",
        "basket.to_csv(\"basket_data.csv\")\n",
        "print(\"✅ Saved basket_data.csv\")\n"
      ],
      "metadata": {
        "id": "XTXUHYmyb7T6"
      },
      "execution_count": null,
      "outputs": []
    },
    {
      "cell_type": "markdown",
      "metadata": {
        "id": "D4t29fXKnr4S"
      },
      "source": [
        "### Code Explanation\n",
        "This cell contributes to data processing, model training, or visualization as part of association rule mining analysis."
      ]
    },
    {
      "cell_type": "code",
      "source": [
        "!mkdir -p /content/drive/MyDrive/product-bundling-analysis"
      ],
      "metadata": {
        "id": "lCs7eG--gUkg"
      },
      "execution_count": null,
      "outputs": []
    },
    {
      "cell_type": "markdown",
      "metadata": {
        "id": "RwdNMTEXnr4T"
      },
      "source": [
        "### Code Explanation\n",
        "This cell contributes to data processing, model training, or visualization as part of association rule mining analysis."
      ]
    },
    {
      "cell_type": "code",
      "source": [
        "# Save frequent itemsets\n",
        "frequent_itemsets.to_csv('/content/drive/MyDrive/product-bundling-analysis/frequent_itemsets.csv', index=False)\n",
        "\n",
        "# Save association rules\n",
        "rules.to_csv('/content/drive/MyDrive/product-bundling-analysis/association_rules.csv', index=False)\n"
      ],
      "metadata": {
        "id": "VS2FtsmkgaAW"
      },
      "execution_count": null,
      "outputs": []
    },
    {
      "cell_type": "markdown",
      "metadata": {
        "id": "wA6s4Ijonr4T"
      },
      "source": [
        "### Code Explanation\n",
        "This cell contributes to data processing, model training, or visualization as part of association rule mining analysis."
      ]
    },
    {
      "cell_type": "code",
      "source": [
        "import os\n",
        "import matplotlib.pyplot as plt\n",
        "\n",
        "# Create folder in Drive for figures\n",
        "FIG_DIR = '/content/drive/MyDrive/product-bundling-analysis/figures'\n",
        "os.makedirs(FIG_DIR, exist_ok=True)\n",
        "\n",
        "# Example: Basket size distribution plot\n",
        "plt.figure()\n",
        "basket_sizes = basket.sum(axis=1)\n",
        "plt.hist(basket_sizes, bins=20, edgecolor='black')\n",
        "plt.title(\"Basket Size Distribution\")\n",
        "plt.xlabel(\"Number of Items in Basket\")\n",
        "plt.ylabel(\"Number of Transactions\")\n",
        "plt.tight_layout()\n",
        "plt.savefig(os.path.join(FIG_DIR, \"basket_size_distribution.png\"))  # Save to Drive\n",
        "plt.show()\n",
        "\n",
        "# Example: Top 10 items\n",
        "top_items = basket.sum().sort_values(ascending=False).head(10)\n",
        "plt.figure()\n",
        "plt.barh(top_items.index, top_items.values)\n",
        "plt.title(\"Top 10 Most Purchased Items\")\n",
        "plt.xlabel(\"Number of Purchases\")\n",
        "plt.tight_layout()\n",
        "plt.savefig(os.path.join(FIG_DIR, \"top_items.png\"))  # Save to Drive\n",
        "plt.show()\n"
      ],
      "metadata": {
        "id": "UG1M4YOV3VlO"
      },
      "execution_count": null,
      "outputs": []
    },
    {
      "cell_type": "markdown",
      "source": [
        "# New Section"
      ],
      "metadata": {
        "id": "9PeFE0W9cI0p"
      }
    }
  ]
}